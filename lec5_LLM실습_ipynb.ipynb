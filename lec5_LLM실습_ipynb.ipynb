{
  "nbformat": 4,
  "nbformat_minor": 0,
  "metadata": {
    "colab": {
      "provenance": [],
      "machine_shape": "hm",
      "gpuType": "T4",
      "include_colab_link": true
    },
    "kernelspec": {
      "name": "python3",
      "display_name": "Python 3"
    },
    "language_info": {
      "name": "python"
    },
    "accelerator": "GPU"
  },
  "cells": [
    {
      "cell_type": "markdown",
      "metadata": {
        "id": "view-in-github",
        "colab_type": "text"
      },
      "source": [
        "<a href=\"https://colab.research.google.com/github/jyryu3161/2025_laidd_drugtarget/blob/main/lec5_LLM%EC%8B%A4%EC%8A%B5_ipynb.ipynb\" target=\"_parent\"><img src=\"https://colab.research.google.com/assets/colab-badge.svg\" alt=\"Open In Colab\"/></a>"
      ]
    },
    {
      "cell_type": "markdown",
      "source": [
        "# Ollama를 이용한 LLM 설치 및 활용 실습"
      ],
      "metadata": {
        "id": "wDmXlT03flUT"
      }
    },
    {
      "cell_type": "markdown",
      "source": [
        "런타임 유형 -> GPU로 변경"
      ],
      "metadata": {
        "id": "HTA6ZeLMhhyA"
      }
    },
    {
      "cell_type": "markdown",
      "source": [
        "#### 공식 설치 스크립트를 통한 Ollama 설치"
      ],
      "metadata": {
        "id": "dxldjVMEaqFL"
      }
    },
    {
      "cell_type": "code",
      "source": [
        "!curl -fsSL https://ollama.com/install.sh | sh"
      ],
      "metadata": {
        "colab": {
          "base_uri": "https://localhost:8080/"
        },
        "id": "7Fr3L_fjdDkP",
        "outputId": "8accceec-2706-425b-bcfa-445f1b013ec5"
      },
      "execution_count": null,
      "outputs": [
        {
          "output_type": "stream",
          "name": "stdout",
          "text": [
            ">>> Installing ollama to /usr/local\n",
            ">>> Downloading Linux amd64 bundle\n",
            "######################################################################## 100.0%\n",
            ">>> Creating ollama user...\n",
            ">>> Adding ollama user to video group...\n",
            ">>> Adding current user to ollama group...\n",
            ">>> Creating ollama systemd service...\n",
            "\u001b[1m\u001b[31mWARNING:\u001b[m systemd is not running\n",
            "\u001b[1m\u001b[31mWARNING:\u001b[m Unable to detect NVIDIA/AMD GPU. Install lspci or lshw to automatically detect and install GPU dependencies.\n",
            ">>> The Ollama API is now available at 127.0.0.1:11434.\n",
            ">>> Install complete. Run \"ollama\" from the command line.\n"
          ]
        }
      ]
    },
    {
      "cell_type": "code",
      "source": [
        "!nohup ollama serve > ollama.log &"
      ],
      "metadata": {
        "colab": {
          "base_uri": "https://localhost:8080/"
        },
        "id": "58R0cl8Mh1D4",
        "outputId": "08c4fa28-37e4-4af7-eccc-ebd03bf44636"
      },
      "execution_count": null,
      "outputs": [
        {
          "output_type": "stream",
          "name": "stdout",
          "text": [
            "nohup: redirecting stderr to stdout\n"
          ]
        }
      ]
    },
    {
      "cell_type": "markdown",
      "source": [
        "#### Ollama 실행"
      ],
      "metadata": {
        "id": "W4CJpEGJerBT"
      }
    },
    {
      "cell_type": "code",
      "source": [
        "!ollama list"
      ],
      "metadata": {
        "colab": {
          "base_uri": "https://localhost:8080/"
        },
        "id": "fyi-GAUQdDmx",
        "outputId": "fcc91aae-887d-4b2c-b4d9-aa33eddc59a9"
      },
      "execution_count": null,
      "outputs": [
        {
          "output_type": "stream",
          "name": "stdout",
          "text": [
            "NAME    ID    SIZE    MODIFIED \n"
          ]
        }
      ]
    },
    {
      "cell_type": "code",
      "source": [
        "!ollama pull gemma3:4b"
      ],
      "metadata": {
        "colab": {
          "base_uri": "https://localhost:8080/"
        },
        "id": "LLwJv9A3hdd5",
        "outputId": "4380f4aa-6fdc-4948-857d-80c7192d095c"
      },
      "execution_count": null,
      "outputs": [
        {
          "output_type": "stream",
          "name": "stdout",
          "text": [
            "\u001b[?2026h\u001b[?25l\u001b[1G\u001b[?25h\u001b[?2026l\u001b[?2026h\u001b[?25l\u001b[1G\u001b[?25h\u001b[?2026l\u001b[?2026h\u001b[?25l\u001b[1G\u001b[?25h\u001b[?2026l\u001b[?2026h\u001b[?25l\u001b[1G\u001b[?25h\u001b[?2026l\u001b[?2026h\u001b[?25l\u001b[1G\u001b[?25h\u001b[?2026l\u001b[?2026h\u001b[?25l\u001b[1G\u001b[?25h\u001b[?2026l\u001b[?2026h\u001b[?25l\u001b[1G\u001b[?25h\u001b[?2026l\u001b[?2026h\u001b[?25l\u001b[1G\u001b[?25h\u001b[?2026l\u001b[?2026h\u001b[?25l\u001b[1G\u001b[?25h\u001b[?2026l\u001b[?2026h\u001b[?25l\u001b[1G\u001b[?25h\u001b[?2026l\u001b[?2026h\u001b[?25l\u001b[1G\u001b[?25h\u001b[?2026l\u001b[?2026h\u001b[?25l\u001b[1G\u001b[?25h\u001b[?2026l\u001b[?2026h\u001b[?25l\u001b[1G\u001b[?25h\u001b[?2026l\u001b[?2026h\u001b[?25l\u001b[1G\u001b[?25h\u001b[?2026l\u001b[?2026h\u001b[?25l\u001b[1G\u001b[?25h\u001b[?2026l\u001b[?2026h\u001b[?25l\u001b[1G\u001b[?25h\u001b[?2026l\u001b[?2026h\u001b[?25l\u001b[1G\u001b[?25h\u001b[?2026l\u001b[?2026h\u001b[?25l\u001b[A\u001b[1G\u001b[?25h\u001b[?2026l\u001b[?2026h\u001b[?25l\u001b[A\u001b[1G\u001b[?25h\u001b[?2026l\u001b[?2026h\u001b[?25l\u001b[A\u001b[1G\u001b[?25h\u001b[?2026l\u001b[?2026h\u001b[?25l\u001b[A\u001b[1G\u001b[?25h\u001b[?2026l\u001b[?2026h\u001b[?25l\u001b[A\u001b[1G\u001b[?25h\u001b[?2026l\u001b[?2026h\u001b[?25l\u001b[A\u001b[1G\u001b[?25h\u001b[?2026l\u001b[?2026h\u001b[?25l\u001b[A\u001b[1G\u001b[?25h\u001b[?2026l\u001b[?2026h\u001b[?25l\u001b[A\u001b[1G\u001b[?25h\u001b[?2026l\u001b[?2026h\u001b[?25l\u001b[A\u001b[1G\u001b[?25h\u001b[?2026l\u001b[?2026h\u001b[?25l\u001b[A\u001b[1G\u001b[?25h\u001b[?2026l\u001b[?2026h\u001b[?25l\u001b[A\u001b[1G\u001b[?25h\u001b[?2026l\u001b[?2026h\u001b[?25l\u001b[A\u001b[1G\u001b[?25h\u001b[?2026l\u001b[?2026h\u001b[?25l\u001b[A\u001b[1G\u001b[?25h\u001b[?2026l\u001b[?2026h\u001b[?25l\u001b[A\u001b[1G\u001b[?25h\u001b[?2026l\u001b[?2026h\u001b[?25l\u001b[A\u001b[1G\u001b[?25h\u001b[?2026l\u001b[?2026h\u001b[?25l\u001b[A\u001b[1G\u001b[?25h\u001b[?2026l\u001b[?2026h\u001b[?25l\u001b[A\u001b[1G\u001b[?25h\u001b[?2026l\u001b[?2026h\u001b[?25l\u001b[A\u001b[1G\u001b[?25h\u001b[?2026l\u001b[?2026h\u001b[?25l\u001b[A\u001b[1G\u001b[?25h\u001b[?2026l\u001b[?2026h\u001b[?25l\u001b[A\u001b[1G\u001b[?25h\u001b[?2026l\u001b[?2026h\u001b[?25l\u001b[A\u001b[1G\u001b[?25h\u001b[?2026l\u001b[?2026h\u001b[?25l\u001b[A\u001b[1G\u001b[?25h\u001b[?2026l\u001b[?2026h\u001b[?25l\u001b[A\u001b[1G\u001b[?25h\u001b[?2026l\u001b[?2026h\u001b[?25l\u001b[A\u001b[1G\u001b[?25h\u001b[?2026l\u001b[?2026h\u001b[?25l\u001b[A\u001b[1G\u001b[?25h\u001b[?2026l\u001b[?2026h\u001b[?25l\u001b[A\u001b[1G\u001b[?25h\u001b[?2026l\u001b[?2026h\u001b[?25l\u001b[A\u001b[1G\u001b[?25h\u001b[?2026l\u001b[?2026h\u001b[?25l\u001b[A\u001b[1G\u001b[?25h\u001b[?2026l\u001b[?2026h\u001b[?25l\u001b[A\u001b[1G\u001b[?25h\u001b[?2026l\u001b[?2026h\u001b[?25l\u001b[A\u001b[1G\u001b[?25h\u001b[?2026l\u001b[?2026h\u001b[?25l\u001b[A\u001b[1G\u001b[?25h\u001b[?2026l\u001b[?2026h\u001b[?25l\u001b[A\u001b[1G\u001b[?25h\u001b[?2026l\u001b[?2026h\u001b[?25l\u001b[A\u001b[1G\u001b[?25h\u001b[?2026l\u001b[?2026h\u001b[?25l\u001b[A\u001b[1G\u001b[?25h\u001b[?2026l\u001b[?2026h\u001b[?25l\u001b[A\u001b[1G\u001b[?25h\u001b[?2026l\u001b[?2026h\u001b[?25l\u001b[A\u001b[1G\u001b[?25h\u001b[?2026l\u001b[?2026h\u001b[?25l\u001b[A\u001b[1G\u001b[?25h\u001b[?2026l\u001b[?2026h\u001b[?25l\u001b[A\u001b[1G\u001b[?25h\u001b[?2026l\u001b[?2026h\u001b[?25l\u001b[A\u001b[1G\u001b[?25h\u001b[?2026l\u001b[?2026h\u001b[?25l\u001b[A\u001b[1G\u001b[?25h\u001b[?2026l\u001b[?2026h\u001b[?25l\u001b[A\u001b[1G\u001b[?25h\u001b[?2026l\u001b[?2026h\u001b[?25l\u001b[A\u001b[1G\u001b[?25h\u001b[?2026l\u001b[?2026h\u001b[?25l\u001b[A\u001b[1G\u001b[?25h\u001b[?2026l\u001b[?2026h\u001b[?25l\u001b[A\u001b[1G\u001b[?25h\u001b[?2026l\u001b[?2026h\u001b[?25l\u001b[A\u001b[1G\u001b[?25h\u001b[?2026l\u001b[?2026h\u001b[?25l\u001b[A\u001b[1G\u001b[?25h\u001b[?2026l\u001b[?2026h\u001b[?25l\u001b[A\u001b[1G\u001b[?25h\u001b[?2026l\u001b[?2026h\u001b[?25l\u001b[A\u001b[1G\u001b[?25h\u001b[?2026l\u001b[?2026h\u001b[?25l\u001b[A\u001b[1G\u001b[?25h\u001b[?2026l\u001b[?2026h\u001b[?25l\u001b[A\u001b[1G\u001b[?25h\u001b[?2026l\u001b[?2026h\u001b[?25l\u001b[A\u001b[1G\u001b[?25h\u001b[?2026l\u001b[?2026h\u001b[?25l\u001b[A\u001b[1G\u001b[?25h\u001b[?2026l\u001b[?2026h\u001b[?25l\u001b[A\u001b[1G\u001b[?25h\u001b[?2026l\u001b[?2026h\u001b[?25l\u001b[A\u001b[1G\u001b[?25h\u001b[?2026l\u001b[?2026h\u001b[?25l\u001b[A\u001b[1G\u001b[?25h\u001b[?2026l\u001b[?2026h\u001b[?25l\u001b[A\u001b[1G\u001b[?25h\u001b[?2026l\u001b[?2026h\u001b[?25l\u001b[A\u001b[1G\u001b[?25h\u001b[?2026l\u001b[?2026h\u001b[?25l\u001b[A\u001b[1G\u001b[?25h\u001b[?2026l\u001b[?2026h\u001b[?25l\u001b[A\u001b[1G\u001b[?25h\u001b[?2026l\u001b[?2026h\u001b[?25l\u001b[A\u001b[1G\u001b[?25h\u001b[?2026l\u001b[?2026h\u001b[?25l\u001b[A\u001b[1G\u001b[?25h\u001b[?2026l\u001b[?2026h\u001b[?25l\u001b[A\u001b[1G\u001b[?25h\u001b[?2026l\u001b[?2026h\u001b[?25l\u001b[A\u001b[1G\u001b[?25h\u001b[?2026l\u001b[?2026h\u001b[?25l\u001b[A\u001b[1G\u001b[?25h\u001b[?2026l\u001b[?2026h\u001b[?25l\u001b[A\u001b[1G\u001b[?25h\u001b[?2026l\u001b[?2026h\u001b[?25l\u001b[A\u001b[1G\u001b[?25h\u001b[?2026l\u001b[?2026h\u001b[?25l\u001b[A\u001b[1G\u001b[?25h\u001b[?2026l\u001b[?2026h\u001b[?25l\u001b[A\u001b[1G\u001b[?25h\u001b[?2026l\u001b[?2026h\u001b[?25l\u001b[A\u001b[1G\u001b[?25h\u001b[?2026l\u001b[?2026h\u001b[?25l\u001b[A\u001b[1G\u001b[?25h\u001b[?2026l\u001b[?2026h\u001b[?25l\u001b[A\u001b[1G\u001b[?25h\u001b[?2026l\u001b[?2026h\u001b[?25l\u001b[A\u001b[1G\u001b[?25h\u001b[?2026l\u001b[?2026h\u001b[?25l\u001b[A\u001b[1G\u001b[?25h\u001b[?2026l\u001b[?2026h\u001b[?25l\u001b[A\u001b[1G\u001b[?25h\u001b[?2026l\u001b[?2026h\u001b[?25l\u001b[A\u001b[1G\u001b[?25h\u001b[?2026l\u001b[?2026h\u001b[?25l\u001b[A\u001b[1G\u001b[?25h\u001b[?2026l\u001b[?2026h\u001b[?25l\u001b[A\u001b[1G\u001b[?25h\u001b[?2026l\u001b[?2026h\u001b[?25l\u001b[A\u001b[1G\u001b[?25h\u001b[?2026l\u001b[?2026h\u001b[?25l\u001b[A\u001b[1G\u001b[?25h\u001b[?2026l\u001b[?2026h\u001b[?25l\u001b[A\u001b[1G\u001b[?25h\u001b[?2026l\u001b[?2026h\u001b[?25l\u001b[A\u001b[1G\u001b[?25h\u001b[?2026l\u001b[?2026h\u001b[?25l\u001b[A\u001b[1G\u001b[?25h\u001b[?2026l\u001b[?2026h\u001b[?25l\u001b[A\u001b[1G\u001b[?25h\u001b[?2026l\u001b[?2026h\u001b[?25l\u001b[A\u001b[1G\u001b[?25h\u001b[?2026l\u001b[?2026h\u001b[?25l\u001b[A\u001b[1G\u001b[?25h\u001b[?2026l\u001b[?2026h\u001b[?25l\u001b[A\u001b[1G\u001b[?25h\u001b[?2026l\u001b[?2026h\u001b[?25l\u001b[A\u001b[1G\u001b[?25h\u001b[?2026l\u001b[?2026h\u001b[?25l\u001b[A\u001b[1G\u001b[?25h\u001b[?2026l\u001b[?2026h\u001b[?25l\u001b[A\u001b[1G\u001b[?25h\u001b[?2026l\u001b[?2026h\u001b[?25l\u001b[A\u001b[1G\u001b[?25h\u001b[?2026l\u001b[?2026h\u001b[?25l\u001b[A\u001b[1G\u001b[?25h\u001b[?2026l\u001b[?2026h\u001b[?25l\u001b[A\u001b[1G\u001b[?25h\u001b[?2026l\u001b[?2026h\u001b[?25l\u001b[A\u001b[1G\u001b[?25h\u001b[?2026l\u001b[?2026h\u001b[?25l\u001b[A\u001b[1G\u001b[?25h\u001b[?2026l\u001b[?2026h\u001b[?25l\u001b[A\u001b[1G\u001b[?25h\u001b[?2026l\u001b[?2026h\u001b[?25l\u001b[A\u001b[1G\u001b[?25h\u001b[?2026l\u001b[?2026h\u001b[?25l\u001b[A\u001b[1G\u001b[?25h\u001b[?2026l\u001b[?2026h\u001b[?25l\u001b[A\u001b[1G\u001b[?25h\u001b[?2026l\u001b[?2026h\u001b[?25l\u001b[A\u001b[1G\u001b[?25h\u001b[?2026l\u001b[?2026h\u001b[?25l\u001b[A\u001b[1G\u001b[?25h\u001b[?2026l\u001b[?2026h\u001b[?25l\u001b[A\u001b[1G\u001b[?25h\u001b[?2026l\u001b[?2026h\u001b[?25l\u001b[A\u001b[1G\u001b[?25h\u001b[?2026l\u001b[?2026h\u001b[?25l\u001b[A\u001b[1G\u001b[?25h\u001b[?2026l\u001b[?2026h\u001b[?25l\u001b[A\u001b[1G\u001b[?25h\u001b[?2026l\u001b[?2026h\u001b[?25l\u001b[A\u001b[1G\u001b[?25h\u001b[?2026l\u001b[?2026h\u001b[?25l\u001b[A\u001b[1G\u001b[?25h\u001b[?2026l\u001b[?2026h\u001b[?25l\u001b[A\u001b[1G\u001b[?25h\u001b[?2026l\u001b[?2026h\u001b[?25l\u001b[A\u001b[1G\u001b[?25h\u001b[?2026l\u001b[?2026h\u001b[?25l\u001b[A\u001b[1G\u001b[?25h\u001b[?2026l\u001b[?2026h\u001b[?25l\u001b[A\u001b[1G\u001b[?25h\u001b[?2026l\u001b[?2026h\u001b[?25l\u001b[A\u001b[1G\u001b[?25h\u001b[?2026l\u001b[?2026h\u001b[?25l\u001b[A\u001b[1G\u001b[?25h\u001b[?2026l\u001b[?2026h\u001b[?25l\u001b[A\u001b[1G\u001b[?25h\u001b[?2026l\u001b[?2026h\u001b[?25l\u001b[A\u001b[1G\u001b[?25h\u001b[?2026l\u001b[?2026h\u001b[?25l\u001b[A\u001b[1G\u001b[?25h\u001b[?2026l\u001b[?2026h\u001b[?25l\u001b[A\u001b[1G\u001b[?25h\u001b[?2026l\u001b[?2026h\u001b[?25l\u001b[A\u001b[1G\u001b[?25h\u001b[?2026l\u001b[?2026h\u001b[?25l\u001b[A\u001b[1G\u001b[?25h\u001b[?2026l\u001b[?2026h\u001b[?25l\u001b[A\u001b[1G\u001b[?25h\u001b[?2026l\u001b[?2026h\u001b[?25l\u001b[A\u001b[1G\u001b[?25h\u001b[?2026l\u001b[?2026h\u001b[?25l\u001b[A\u001b[1G\u001b[?25h\u001b[?2026l\u001b[?2026h\u001b[?25l\u001b[A\u001b[1G\u001b[?25h\u001b[?2026l\u001b[?2026h\u001b[?25l\u001b[A\u001b[1G\u001b[?25h\u001b[?2026l\u001b[?2026h\u001b[?25l\u001b[A\u001b[1G\u001b[?25h\u001b[?2026l\u001b[?2026h\u001b[?25l\u001b[A\u001b[1G\u001b[?25h\u001b[?2026l\u001b[?2026h\u001b[?25l\u001b[A\u001b[A\u001b[1G\u001b[?25h\u001b[?2026l\u001b[?2026h\u001b[?25l\u001b[A\u001b[A\u001b[1G\u001b[?25h\u001b[?2026l\u001b[?2026h\u001b[?25l\u001b[A\u001b[A\u001b[1G\u001b[?25h\u001b[?2026l\u001b[?2026h\u001b[?25l\u001b[A\u001b[A\u001b[1G\u001b[?25h\u001b[?2026l\u001b[?2026h\u001b[?25l\u001b[A\u001b[A\u001b[1G\u001b[?25h\u001b[?2026l\u001b[?2026h\u001b[?25l\u001b[A\u001b[A\u001b[1G\u001b[?25h\u001b[?2026l\u001b[?2026h\u001b[?25l\u001b[A\u001b[A\u001b[1G\u001b[?25h\u001b[?2026l\u001b[?2026h\u001b[?25l\u001b[A\u001b[A\u001b[1G\u001b[?25h\u001b[?2026l\u001b[?2026h\u001b[?25l\u001b[A\u001b[A\u001b[1G\u001b[?25h\u001b[?2026l\u001b[?2026h\u001b[?25l\u001b[A\u001b[A\u001b[1G\u001b[?25h\u001b[?2026l\u001b[?2026h\u001b[?25l\u001b[A\u001b[A\u001b[1G\u001b[?25h\u001b[?2026l\u001b[?2026h\u001b[?25l\u001b[A\u001b[A\u001b[1G\u001b[?25h\u001b[?2026l\u001b[?2026h\u001b[?25l\u001b[A\u001b[A\u001b[1G\u001b[?25h\u001b[?2026l\u001b[?2026h\u001b[?25l\u001b[A\u001b[A\u001b[1G\u001b[?25h\u001b[?2026l\u001b[?2026h\u001b[?25l\u001b[A\u001b[A\u001b[1G\u001b[?25h\u001b[?2026l\u001b[?2026h\u001b[?25l\u001b[A\u001b[A\u001b[A\u001b[1G\u001b[?25h\u001b[?2026l\u001b[?2026h\u001b[?25l\u001b[A\u001b[A\u001b[A\u001b[1G\u001b[?25h\u001b[?2026l\u001b[?2026h\u001b[?25l\u001b[A\u001b[A\u001b[A\u001b[1G\u001b[?25h\u001b[?2026l\u001b[?2026h\u001b[?25l\u001b[A\u001b[A\u001b[A\u001b[1G\u001b[?25h\u001b[?2026l\u001b[?2026h\u001b[?25l\u001b[A\u001b[A\u001b[A\u001b[1G\u001b[?25h\u001b[?2026l\u001b[?2026h\u001b[?25l\u001b[A\u001b[A\u001b[A\u001b[1G\u001b[?25h\u001b[?2026l\u001b[?2026h\u001b[?25l\u001b[A\u001b[A\u001b[A\u001b[1G\u001b[?25h\u001b[?2026l\u001b[?2026h\u001b[?25l\u001b[A\u001b[A\u001b[A\u001b[1G\u001b[?25h\u001b[?2026l\u001b[?2026h\u001b[?25l\u001b[A\u001b[A\u001b[A\u001b[1G\u001b[?25h\u001b[?2026l\u001b[?2026h\u001b[?25l\u001b[A\u001b[A\u001b[A\u001b[1G\u001b[?25h\u001b[?2026l\u001b[?2026h\u001b[?25l\u001b[A\u001b[A\u001b[A\u001b[1G\u001b[?25h\u001b[?2026l\u001b[?2026h\u001b[?25l\u001b[A\u001b[A\u001b[A\u001b[1G\u001b[?25h\u001b[?2026l\u001b[?2026h\u001b[?25l\u001b[A\u001b[A\u001b[A\u001b[1G\u001b[?25h\u001b[?2026l\u001b[?2026h\u001b[?25l\u001b[A\u001b[A\u001b[A\u001b[1G\u001b[?25h\u001b[?2026l\u001b[?2026h\u001b[?25l\u001b[A\u001b[A\u001b[A\u001b[1G\u001b[?25h\u001b[?2026l\u001b[?2026h\u001b[?25l\u001b[A\u001b[A\u001b[A\u001b[A\u001b[1G\u001b[?25h\u001b[?2026l\u001b[?2026h\u001b[?25l\u001b[A\u001b[A\u001b[A\u001b[A\u001b[1G\u001b[?25h\u001b[?2026l\u001b[?2026h\u001b[?25l\u001b[A\u001b[A\u001b[A\u001b[A\u001b[1G\u001b[?25h\u001b[?2026l\u001b[?2026h\u001b[?25l\u001b[A\u001b[A\u001b[A\u001b[A\u001b[1G\u001b[?25h\u001b[?2026l\u001b[?2026h\u001b[?25l\u001b[A\u001b[A\u001b[A\u001b[A\u001b[1G\u001b[?25h\u001b[?2026l\u001b[?2026h\u001b[?25l\u001b[A\u001b[A\u001b[A\u001b[A\u001b[1G\u001b[?25h\u001b[?2026l\u001b[?2026h\u001b[?25l\u001b[A\u001b[A\u001b[A\u001b[A\u001b[1G\u001b[?25h\u001b[?2026l\u001b[?2026h\u001b[?25l\u001b[A\u001b[A\u001b[A\u001b[A\u001b[1G\u001b[?25h\u001b[?2026l\u001b[?2026h\u001b[?25l\u001b[A\u001b[A\u001b[A\u001b[A\u001b[1G\u001b[?25h\u001b[?2026l\u001b[?2026h\u001b[?25l\u001b[A\u001b[A\u001b[A\u001b[A\u001b[1G\u001b[?25h\u001b[?2026l\u001b[?2026h\u001b[?25l\u001b[A\u001b[A\u001b[A\u001b[A\u001b[1G\u001b[?25h\u001b[?2026l\u001b[?2026h\u001b[?25l\u001b[A\u001b[A\u001b[A\u001b[A\u001b[1G\u001b[?25h\u001b[?2026l\u001b[?2026h\u001b[?25l\u001b[A\u001b[A\u001b[A\u001b[A\u001b[1G\u001b[?25h\u001b[?2026l\u001b[?2026h\u001b[?25l\u001b[A\u001b[A\u001b[A\u001b[A\u001b[1G\u001b[?25h\u001b[?2026l\u001b[?2026h\u001b[?25l\u001b[A\u001b[A\u001b[A\u001b[A\u001b[1G\u001b[?25h\u001b[?2026l\u001b[?2026h\u001b[?25l\u001b[A\u001b[A\u001b[A\u001b[A\u001b[1G\u001b[?25h\u001b[?2026l\u001b[?2026h\u001b[?25l\u001b[A\u001b[A\u001b[A\u001b[A\u001b[A\u001b[1G\u001b[?25h\u001b[?2026l\u001b[?2026h\u001b[?25l\u001b[A\u001b[A\u001b[A\u001b[A\u001b[A\u001b[1G\u001b[?25h\u001b[?2026l\u001b[?2026h\u001b[?25l\u001b[A\u001b[A\u001b[A\u001b[A\u001b[A\u001b[1G\u001b[?25h\u001b[?2026l\u001b[?2026h\u001b[?25l\u001b[A\u001b[A\u001b[A\u001b[A\u001b[A\u001b[1G\u001b[?25h\u001b[?2026l\u001b[?2026h\u001b[?25l\u001b[A\u001b[A\u001b[A\u001b[A\u001b[A\u001b[1G\u001b[?25h\u001b[?2026l\u001b[?2026h\u001b[?25l\u001b[A\u001b[A\u001b[A\u001b[A\u001b[A\u001b[1G\u001b[?25h\u001b[?2026l\u001b[?2026h\u001b[?25l\u001b[A\u001b[A\u001b[A\u001b[A\u001b[A\u001b[1G\u001b[?25h\u001b[?2026l\u001b[?2026h\u001b[?25l\u001b[A\u001b[A\u001b[A\u001b[A\u001b[A\u001b[A\u001b[1G\u001b[?25h\u001b[?2026l\u001b[?2026h\u001b[?25l\u001b[A\u001b[A\u001b[A\u001b[A\u001b[A\u001b[A\u001b[1G\u001b[?25h\u001b[?2026l\u001b[?2026h\u001b[?25l\u001b[A\u001b[A\u001b[A\u001b[A\u001b[A\u001b[A\u001b[1G\u001b[?25h\u001b[?2026l\u001b[?2026h\u001b[?25l\u001b[A\u001b[A\u001b[A\u001b[A\u001b[A\u001b[A\u001b[1G\u001b[?25h\u001b[?2026l\u001b[?2026h\u001b[?25l\u001b[A\u001b[A\u001b[A\u001b[A\u001b[A\u001b[A\u001b[1G\u001b[?25h\u001b[?2026l\u001b[?2026h\u001b[?25l\u001b[A\u001b[A\u001b[A\u001b[A\u001b[A\u001b[A\u001b[1G\u001b[?25h\u001b[?2026l\u001b[?2026h\u001b[?25l\u001b[A\u001b[A\u001b[A\u001b[A\u001b[A\u001b[A\u001b[1G\u001b[?25h\u001b[?2026l\u001b[?2026h\u001b[?25l\u001b[A\u001b[A\u001b[A\u001b[A\u001b[A\u001b[A\u001b[1G\u001b[?25h\u001b[?2026l\u001b[?2026h\u001b[?25l\u001b[A\u001b[A\u001b[A\u001b[A\u001b[A\u001b[A\u001b[1G\u001b[?25h\u001b[?2026l\u001b[?2026h\u001b[?25l\u001b[A\u001b[A\u001b[A\u001b[A\u001b[A\u001b[A\u001b[1G\u001b[?25h\u001b[?2026l\u001b[?2026h\u001b[?25l\u001b[A\u001b[A\u001b[A\u001b[A\u001b[A\u001b[A\u001b[1G\u001b[?25h\u001b[?2026l\u001b[?2026h\u001b[?25l\u001b[A\u001b[A\u001b[A\u001b[A\u001b[A\u001b[A\u001b[1G\u001b[?25h\u001b[?2026l\u001b[?2026h\u001b[?25l\u001b[A\u001b[A\u001b[A\u001b[A\u001b[A\u001b[A\u001b[1G\u001b[?25h\u001b[?2026l\u001b[?2026h\u001b[?25l\u001b[A\u001b[A\u001b[A\u001b[A\u001b[A\u001b[A\u001b[1G\u001b[?25h\u001b[?2026l\u001b[?2026h\u001b[?25l\u001b[A\u001b[A\u001b[A\u001b[A\u001b[A\u001b[A\u001b[1G\u001b[?25h\u001b[?2026l\u001b[?2026h\u001b[?25l\u001b[A\u001b[A\u001b[A\u001b[A\u001b[A\u001b[A\u001b[1G\u001b[?25h\u001b[?2026l\u001b[?2026h\u001b[?25l\u001b[A\u001b[A\u001b[A\u001b[A\u001b[A\u001b[A\u001b[1G\u001b[?25h\u001b[?2026l\u001b[?2026h\u001b[?25l\u001b[A\u001b[A\u001b[A\u001b[A\u001b[A\u001b[A\u001b[1G\u001b[?25h\u001b[?2026l\u001b[?2026h\u001b[?25l\u001b[A\u001b[A\u001b[A\u001b[A\u001b[A\u001b[A\u001b[1G\u001b[?25h\u001b[?2026l\u001b[?2026h\u001b[?25l\u001b[A\u001b[A\u001b[A\u001b[A\u001b[A\u001b[A\u001b[1G\u001b[?25h\u001b[?2026l\u001b[?2026h\u001b[?25l\u001b[A\u001b[A\u001b[A\u001b[A\u001b[A\u001b[A\u001b[1G\u001b[?25h\u001b[?2026l\u001b[?2026h\u001b[?25l\u001b[A\u001b[A\u001b[A\u001b[A\u001b[A\u001b[A\u001b[1G\u001b[?25h\u001b[?2026l\u001b[?2026h\u001b[?25l\u001b[A\u001b[A\u001b[A\u001b[A\u001b[A\u001b[A\u001b[1G\u001b[?25h\u001b[?2026l\u001b[?2026h\u001b[?25l\u001b[A\u001b[A\u001b[A\u001b[A\u001b[A\u001b[A\u001b[1G\u001b[?25h\u001b[?2026l\u001b[?2026h\u001b[?25l\u001b[A\u001b[A\u001b[A\u001b[A\u001b[A\u001b[A\u001b[1G\u001b[?25h\u001b[?2026l\u001b[?2026h\u001b[?25l\u001b[A\u001b[A\u001b[A\u001b[A\u001b[A\u001b[A\u001b[1G\u001b[?25h\u001b[?2026l\u001b[?2026h\u001b[?25l\u001b[A\u001b[A\u001b[A\u001b[A\u001b[A\u001b[A\u001b[1G\u001b[?25h\u001b[?2026l\u001b[?2026h\u001b[?25l\u001b[A\u001b[A\u001b[A\u001b[A\u001b[A\u001b[A\u001b[1G\u001b[?25h\u001b[?2026l\u001b[?2026h\u001b[?25l\u001b[A\u001b[A\u001b[A\u001b[A\u001b[A\u001b[A\u001b[1G\u001b[?25h\u001b[?2026l\u001b[?2026h\u001b[?25l\u001b[A\u001b[A\u001b[A\u001b[A\u001b[A\u001b[A\u001b[1G\u001b[?25h\u001b[?2026l\u001b[?2026h\u001b[?25l\u001b[A\u001b[A\u001b[A\u001b[A\u001b[A\u001b[A\u001b[1G\u001b[?25h\u001b[?2026l\u001b[?2026h\u001b[?25l\u001b[A\u001b[A\u001b[A\u001b[A\u001b[A\u001b[A\u001b[1G\u001b[?25h\u001b[?2026l\u001b[?2026h\u001b[?25l\u001b[A\u001b[A\u001b[A\u001b[A\u001b[A\u001b[A\u001b[1G\u001b[?25h\u001b[?2026l\u001b[?2026h\u001b[?25l\u001b[A\u001b[A\u001b[A\u001b[A\u001b[A\u001b[A\u001b[1G\u001b[?25h\u001b[?2026l\u001b[?2026h\u001b[?25l\u001b[A\u001b[A\u001b[A\u001b[A\u001b[A\u001b[A\u001b[1G\u001b[?25h\u001b[?2026l\u001b[?2026h\u001b[?25l\u001b[A\u001b[A\u001b[A\u001b[A\u001b[A\u001b[A\u001b[1G\u001b[?25h\u001b[?2026l\u001b[?2026h\u001b[?25l\u001b[A\u001b[A\u001b[A\u001b[A\u001b[A\u001b[A\u001b[1G\u001b[?25h\u001b[?2026l\u001b[?2026h\u001b[?25l\u001b[A\u001b[A\u001b[A\u001b[A\u001b[A\u001b[A\u001b[1G\u001b[?25h\u001b[?2026l\u001b[?2026h\u001b[?25l\u001b[A\u001b[A\u001b[A\u001b[A\u001b[A\u001b[A\u001b[1G\u001b[?25h\u001b[?2026l\u001b[?2026h\u001b[?25l\u001b[A\u001b[A\u001b[A\u001b[A\u001b[A\u001b[A\u001b[1G\u001b[?25h\u001b[?2026l\u001b[?2026h\u001b[?25l\u001b[A\u001b[A\u001b[A\u001b[A\u001b[A\u001b[A\u001b[1G\u001b[?25h\u001b[?2026l\u001b[?2026h\u001b[?25l\u001b[A\u001b[A\u001b[A\u001b[A\u001b[A\u001b[A\u001b[1G\u001b[?25h\u001b[?2026l\u001b[?2026h\u001b[?25l\u001b[A\u001b[A\u001b[A\u001b[A\u001b[A\u001b[A\u001b[1G\u001b[?25h\u001b[?2026l\u001b[?2026h\u001b[?25l\u001b[A\u001b[A\u001b[A\u001b[A\u001b[A\u001b[A\u001b[1G\u001b[?25h\u001b[?2026l\u001b[?2026h\u001b[?25l\u001b[A\u001b[A\u001b[A\u001b[A\u001b[A\u001b[A\u001b[1G\u001b[?25h\u001b[?2026l\u001b[?2026h\u001b[?25l\u001b[A\u001b[A\u001b[A\u001b[A\u001b[A\u001b[A\u001b[1G\u001b[?25h\u001b[?2026l\u001b[?2026h\u001b[?25l\u001b[A\u001b[A\u001b[A\u001b[A\u001b[A\u001b[A\u001b[1G\u001b[?25h\u001b[?2026l\u001b[?2026h\u001b[?25l\u001b[A\u001b[A\u001b[A\u001b[A\u001b[A\u001b[A\u001b[1G\u001b[?25h\u001b[?2026l\u001b[?2026h\u001b[?25l\u001b[A\u001b[A\u001b[A\u001b[A\u001b[A\u001b[A\u001b[1G\u001b[?25h\u001b[?2026l\u001b[?2026h\u001b[?25l\u001b[A\u001b[A\u001b[A\u001b[A\u001b[A\u001b[A\u001b[1G\u001b[?25h\u001b[?2026l\u001b[?2026h\u001b[?25l\u001b[A\u001b[A\u001b[A\u001b[A\u001b[A\u001b[A\u001b[1G\u001b[?25h\u001b[?2026l\u001b[?2026h\u001b[?25l\u001b[A\u001b[A\u001b[A\u001b[A\u001b[A\u001b[A\u001b[1G\u001b[?25h\u001b[?2026l\u001b[?2026h\u001b[?25l\u001b[A\u001b[A\u001b[A\u001b[A\u001b[A\u001b[A\u001b[1G\u001b[?25h\u001b[?2026l\u001b[?2026h\u001b[?25l\u001b[A\u001b[A\u001b[A\u001b[A\u001b[A\u001b[A\u001b[1G\u001b[?25h\u001b[?2026l\u001b[?2026h\u001b[?25l\u001b[A\u001b[A\u001b[A\u001b[A\u001b[A\u001b[A\u001b[1G\u001b[?25h\u001b[?2026l\u001b[?2026h\u001b[?25l\u001b[A\u001b[A\u001b[A\u001b[A\u001b[A\u001b[A\u001b[1G\u001b[?25h\u001b[?2026l\u001b[?2026h\u001b[?25l\u001b[A\u001b[A\u001b[A\u001b[A\u001b[A\u001b[A\u001b[1G\u001b[?25h\u001b[?2026l\u001b[?2026h\u001b[?25l\u001b[A\u001b[A\u001b[A\u001b[A\u001b[A\u001b[A\u001b[1G\u001b[?25h\u001b[?2026l\u001b[?2026h\u001b[?25l\u001b[A\u001b[A\u001b[A\u001b[A\u001b[A\u001b[A\u001b[1G\u001b[?25h\u001b[?2026l\u001b[?2026h\u001b[?25l\u001b[A\u001b[A\u001b[A\u001b[A\u001b[A\u001b[A\u001b[1G\u001b[?25h\u001b[?2026l\u001b[?2026h\u001b[?25l\u001b[A\u001b[A\u001b[A\u001b[A\u001b[A\u001b[A\u001b[1G\u001b[?25h\u001b[?2026l\u001b[?2026h\u001b[?25l\u001b[A\u001b[A\u001b[A\u001b[A\u001b[A\u001b[A\u001b[1G\u001b[?25h\u001b[?2026l\u001b[?2026h\u001b[?25l\u001b[A\u001b[A\u001b[A\u001b[A\u001b[A\u001b[A\u001b[1G\u001b[?25h\u001b[?2026l\u001b[?2026h\u001b[?25l\u001b[A\u001b[A\u001b[A\u001b[A\u001b[A\u001b[A\u001b[1G\u001b[?25h\u001b[?2026l\u001b[?2026h\u001b[?25l\u001b[A\u001b[A\u001b[A\u001b[A\u001b[A\u001b[A\u001b[1G\u001b[?25h\u001b[?2026l\u001b[?2026h\u001b[?25l\u001b[A\u001b[A\u001b[A\u001b[A\u001b[A\u001b[A\u001b[1G\u001b[?25h\u001b[?2026l\u001b[?2026h\u001b[?25l\u001b[A\u001b[A\u001b[A\u001b[A\u001b[A\u001b[A\u001b[1G\u001b[?25h\u001b[?2026l\u001b[?2026h\u001b[?25l\u001b[A\u001b[A\u001b[A\u001b[A\u001b[A\u001b[A\u001b[1G\u001b[?25h\u001b[?2026l\u001b[?2026h\u001b[?25l\u001b[A\u001b[A\u001b[A\u001b[A\u001b[A\u001b[A\u001b[1G\u001b[?25h\u001b[?2026l\u001b[?2026h\u001b[?25l\u001b[A\u001b[A\u001b[A\u001b[A\u001b[A\u001b[A\u001b[1G\u001b[?25h\u001b[?2026l\u001b[?2026h\u001b[?25l\u001b[A\u001b[A\u001b[A\u001b[A\u001b[A\u001b[A\u001b[1G\u001b[?25h\u001b[?2026l\u001b[?2026h\u001b[?25l\u001b[A\u001b[A\u001b[A\u001b[A\u001b[A\u001b[A\u001b[1G\u001b[?25h\u001b[?2026l\u001b[?2026h\u001b[?25l\u001b[A\u001b[A\u001b[A\u001b[A\u001b[A\u001b[A\u001b[1G\u001b[?25h\u001b[?2026l\u001b[?2026h\u001b[?25l\u001b[A\u001b[A\u001b[A\u001b[A\u001b[A\u001b[A\u001b[1G\u001b[?25h\u001b[?2026l\u001b[?2026h\u001b[?25l\u001b[A\u001b[A\u001b[A\u001b[A\u001b[A\u001b[A\u001b[1G\u001b[?25h\u001b[?2026l\u001b[?2026h\u001b[?25l\u001b[A\u001b[A\u001b[A\u001b[A\u001b[A\u001b[A\u001b[1G\u001b[?25h\u001b[?2026l\u001b[?2026h\u001b[?25l\u001b[A\u001b[A\u001b[A\u001b[A\u001b[A\u001b[A\u001b[1G\u001b[?25h\u001b[?2026l\u001b[?2026h\u001b[?25l\u001b[A\u001b[A\u001b[A\u001b[A\u001b[A\u001b[A\u001b[1G\u001b[?25h\u001b[?2026l\u001b[?2026h\u001b[?25l\u001b[A\u001b[A\u001b[A\u001b[A\u001b[A\u001b[A\u001b[1G\u001b[?25h\u001b[?2026l\u001b[?2026h\u001b[?25l\u001b[A\u001b[A\u001b[A\u001b[A\u001b[A\u001b[A\u001b[1G\u001b[?25h\u001b[?2026l\u001b[?2026h\u001b[?25l\u001b[A\u001b[A\u001b[A\u001b[A\u001b[A\u001b[A\u001b[1G\u001b[?25h\u001b[?2026l\u001b[?2026h\u001b[?25l\u001b[A\u001b[A\u001b[A\u001b[A\u001b[A\u001b[A\u001b[1G\u001b[?25h\u001b[?2026l\u001b[?2026h\u001b[?25l\u001b[A\u001b[A\u001b[A\u001b[A\u001b[A\u001b[A\u001b[1G\u001b[?25h\u001b[?2026l\u001b[?2026h\u001b[?25l\u001b[A\u001b[A\u001b[A\u001b[A\u001b[A\u001b[A\u001b[1G\u001b[?25h\u001b[?2026l\u001b[?2026h\u001b[?25l\u001b[A\u001b[A\u001b[A\u001b[A\u001b[A\u001b[A\u001b[1G\u001b[?25h\u001b[?2026l\u001b[?2026h\u001b[?25l\u001b[A\u001b[A\u001b[A\u001b[A\u001b[A\u001b[A\u001b[1G\u001b[?25h\u001b[?2026l\u001b[?2026h\u001b[?25l\u001b[A\u001b[A\u001b[A\u001b[A\u001b[A\u001b[A\u001b[1G\u001b[?25h\u001b[?2026l\u001b[?2026h\u001b[?25l\u001b[A\u001b[A\u001b[A\u001b[A\u001b[A\u001b[A\u001b[1G\u001b[?25h\u001b[?2026l\u001b[?2026h\u001b[?25l\u001b[A\u001b[A\u001b[A\u001b[A\u001b[A\u001b[A\u001b[1G\u001b[?25h\u001b[?2026l\u001b[?2026h\u001b[?25l\u001b[A\u001b[A\u001b[A\u001b[A\u001b[A\u001b[A\u001b[1G\u001b[?25h\u001b[?2026l\u001b[?2026h\u001b[?25l\u001b[A\u001b[A\u001b[A\u001b[A\u001b[A\u001b[A\u001b[1G\u001b[?25h\u001b[?2026l\u001b[?2026h\u001b[?25l\u001b[A\u001b[A\u001b[A\u001b[A\u001b[A\u001b[A\u001b[1G\u001b[?25h\u001b[?2026l\u001b[?2026h\u001b[?25l\u001b[A\u001b[A\u001b[A\u001b[A\u001b[A\u001b[A\u001b[1G\u001b[?25h\u001b[?2026l\u001b[?2026h\u001b[?25l\u001b[A\u001b[A\u001b[A\u001b[A\u001b[A\u001b[A\u001b[1G\u001b[?25h\u001b[?2026l\u001b[?2026h\u001b[?25l\u001b[A\u001b[A\u001b[A\u001b[A\u001b[A\u001b[A\u001b[1G\u001b[?25h\u001b[?2026l\u001b[?2026h\u001b[?25l\u001b[A\u001b[A\u001b[A\u001b[A\u001b[A\u001b[A\u001b[1G\u001b[?25h\u001b[?2026l\u001b[?2026h\u001b[?25l\u001b[A\u001b[A\u001b[A\u001b[A\u001b[A\u001b[A\u001b[1G\u001b[?25h\u001b[?2026l\u001b[?2026h\u001b[?25l\u001b[A\u001b[A\u001b[A\u001b[A\u001b[A\u001b[A\u001b[1G\u001b[?25h\u001b[?2026l\u001b[?2026h\u001b[?25l\u001b[A\u001b[A\u001b[A\u001b[A\u001b[A\u001b[A\u001b[1G\u001b[?25h\u001b[?2026l\u001b[?2026h\u001b[?25l\u001b[A\u001b[A\u001b[A\u001b[A\u001b[A\u001b[A\u001b[1G\u001b[?25h\u001b[?2026l\u001b[?2026h\u001b[?25l\u001b[A\u001b[A\u001b[A\u001b[A\u001b[A\u001b[A\u001b[1G\u001b[?25h\u001b[?2026l\u001b[?2026h\u001b[?25l\u001b[A\u001b[A\u001b[A\u001b[A\u001b[A\u001b[A\u001b[1G\u001b[?25h\u001b[?2026l\n"
          ]
        }
      ]
    },
    {
      "cell_type": "code",
      "source": [
        "!ollama list"
      ],
      "metadata": {
        "colab": {
          "base_uri": "https://localhost:8080/"
        },
        "id": "ji7yJFo9iKeh",
        "outputId": "3922d557-64af-4096-f62c-6e315c2c9891"
      },
      "execution_count": null,
      "outputs": [
        {
          "output_type": "stream",
          "name": "stdout",
          "text": [
            "NAME         ID              SIZE      MODIFIED       \n",
            "gemma3:4b    a2af6cc3eb7f    3.3 GB    10 seconds ago    \n",
            "qwen3:30b    ad815644918f    18 GB     8 minutes ago     \n"
          ]
        }
      ]
    },
    {
      "cell_type": "code",
      "source": [
        "!ollama run gemma3:4b  \"대한민국의 수도는 어디야?\""
      ],
      "metadata": {
        "colab": {
          "base_uri": "https://localhost:8080/"
        },
        "id": "BsQrW-W_dDo_",
        "outputId": "fb1613ba-1f4a-4fcd-92cb-21b10c532e44"
      },
      "execution_count": null,
      "outputs": [
        {
          "output_type": "stream",
          "name": "stdout",
          "text": [
            "\u001b[?2026h\u001b[?25l\u001b[1G\u001b[?25h\u001b[?2026l\u001b[?2026h\u001b[?25l\u001b[1G\u001b[?25h\u001b[?2026l\u001b[?2026h\u001b[?25l\u001b[1G\u001b[?25h\u001b[?2026l\u001b[?2026h\u001b[?25l\u001b[1G\u001b[?25h\u001b[?2026l\u001b[?2026h\u001b[?25l\u001b[1G\u001b[?25h\u001b[?2026l\u001b[?2026h\u001b[?25l\u001b[1G\u001b[?25h\u001b[?2026l\u001b[?2026h\u001b[?25l\u001b[1G\u001b[?25h\u001b[?2026l\u001b[?2026h\u001b[?25l\u001b[1G\u001b[?25h\u001b[?2026l\u001b[?2026h\u001b[?25l\u001b[1G\u001b[?25h\u001b[?2026l\u001b[?2026h\u001b[?25l\u001b[1G\u001b[?25h\u001b[?2026l\u001b[?2026h\u001b[?25l\u001b[1G\u001b[?25h\u001b[?2026l\u001b[?2026h\u001b[?25l\u001b[1G\u001b[?25h\u001b[?2026l\u001b[?2026h\u001b[?25l\u001b[1G\u001b[?25h\u001b[?2026l\u001b[?2026h\u001b[?25l\u001b[1G\u001b[?25h\u001b[?2026l\u001b[?2026h\u001b[?25l\u001b[1G\u001b[?25h\u001b[?2026l\u001b[?2026h\u001b[?25l\u001b[1G\u001b[?25h\u001b[?2026l\u001b[?2026h\u001b[?25l\u001b[1G\u001b[?25h\u001b[?2026l\u001b[?2026h\u001b[?25l\u001b[1G\u001b[?25h\u001b[?2026l\u001b[?2026h\u001b[?25l\u001b[1G\u001b[?25h\u001b[?2026l\u001b[?2026h\u001b[?25l\u001b[1G\u001b[?25h\u001b[?2026l\u001b[?2026h\u001b[?25l\u001b[1G\u001b[?25h\u001b[?2026l\u001b[?2026h\u001b[?25l\u001b[1G\u001b[?25h\u001b[?2026l\u001b[?2026h\u001b[?25l\u001b[1G\u001b[?25h\u001b[?2026l\u001b[?2026h\u001b[?25l\u001b[1G\u001b[?25h\u001b[?2026l\u001b[?2026h\u001b[?25l\u001b[1G\u001b[?25h\u001b[?2026l\u001b[?2026h\u001b[?25l\u001b[1G\u001b[?25h\u001b[?2026l\u001b[?2026h\u001b[?25l\u001b[1G\u001b[?25h\u001b[?2026l\u001b[?2026h\u001b[?25l\u001b[1G\u001b[?25h\u001b[?2026l\u001b[?2026h\u001b[?25l\u001b[1G\u001b[?25h\u001b[?2026l\u001b[?2026h\u001b[?25l\u001b[1G\u001b[?25h\u001b[?2026l\u001b[?2026h\u001b[?25l\u001b[1G\u001b[?25h\u001b[?2026l\u001b[?2026h\u001b[?25l\u001b[1G\u001b[?25h\u001b[?2026l\u001b[?2026h\u001b[?25l\u001b[1G\u001b[?25h\u001b[?2026l\u001b[?2026h\u001b[?25l\u001b[1G\u001b[?25h\u001b[?2026l\u001b[?2026h\u001b[?25l\u001b[1G\u001b[?25h\u001b[?2026l\u001b[?2026h\u001b[?25l\u001b[1G\u001b[?25h\u001b[?2026l\u001b[?2026h\u001b[?25l\u001b[1G\u001b[?25h\u001b[?2026l\u001b[?2026h\u001b[?25l\u001b[1G\u001b[?25h\u001b[?2026l\u001b[?2026h\u001b[?25l\u001b[1G\u001b[?25h\u001b[?2026l\u001b[?2026h\u001b[?25l\u001b[1G\u001b[?25h\u001b[?2026l\u001b[?2026h\u001b[?25l\u001b[1G\u001b[?25h\u001b[?2026l\u001b[?2026h\u001b[?25l\u001b[1G\u001b[?25h\u001b[?2026l\u001b[?2026h\u001b[?25l\u001b[1G\u001b[?25h\u001b[?2026l\u001b[?2026h\u001b[?25l\u001b[1G\u001b[?25h\u001b[?2026l\u001b[?2026h\u001b[?25l\u001b[1G\u001b[?25h\u001b[?2026l\u001b[?2026h\u001b[?25l\u001b[1G\u001b[?25h\u001b[?2026l\u001b[?25l\u001b[?2026h\u001b[?25l\u001b[1G\u001b[?25h\u001b[?2026l\u001b[2K\u001b[1G\u001b[?25h대한\u001b[?25l\u001b[?25h민\u001b[?25l\u001b[?25h국의\u001b[?25l\u001b[?25h 수도\u001b[?25l\u001b[?25h는\u001b[?25l\u001b[?25h 서울\u001b[?25l\u001b[?25h입니다\u001b[?25l\u001b[?25h.\u001b[?25l\u001b[?25h\n",
            "\n",
            "\u001b[?25l\u001b[?25h"
          ]
        }
      ]
    },
    {
      "cell_type": "markdown",
      "source": [
        "Colab에서는 requests를 사용해 Ollama의 로컬 REST API(http://localhost:11434/api/generate)에 요청"
      ],
      "metadata": {
        "id": "TAXg4lX4hvaO"
      }
    },
    {
      "cell_type": "code",
      "source": [
        "import requests\n",
        "import json\n",
        "\n",
        "# Ollama API 엔드포인트\n",
        "OLLAMA_API_URL = \"http://localhost:11434/api/generate\"\n",
        "\n",
        "# 질문 설정\n",
        "payload = {\n",
        "    \"model\": \"gemma3:4b\",\n",
        "    \"prompt\": \"인공지능이 약물 표적 발굴에 어떻게 활용되는지 설명해줘.\",\n",
        "    \"stream\": False\n",
        "}\n",
        "\n",
        "# 요청 보내기\n",
        "response = requests.post(OLLAMA_API_URL, json=payload)\n",
        "\n",
        "# 결과 출력\n",
        "if response.status_code == 200:\n",
        "    data = response.json()\n",
        "    print(\"=== 응답 ===\")\n",
        "    print(data[\"response\"])\n",
        "else:\n",
        "    print(f\"오류 발생: {response.status_code} - {response.text}\")\n"
      ],
      "metadata": {
        "colab": {
          "base_uri": "https://localhost:8080/"
        },
        "id": "JWl8j6C1fMVq",
        "outputId": "1c673080-639c-4894-96e6-586059938e00"
      },
      "execution_count": null,
      "outputs": [
        {
          "output_type": "stream",
          "name": "stdout",
          "text": [
            "=== 응답 ===\n",
            "인공지능(AI)은 약물 표적 발굴 분야에서 혁신적인 변화를 가져오고 있습니다. 기존의 방식은 시간과 비용이 많이 들고, 성공률이 낮았지만, AI는 데이터 분석 및 패턴 인식 능력을 활용하여 훨씬 효율적이고 정확하게 약물 표적을 발굴하는 데 기여하고 있습니다.\n",
            "\n",
            "**1. AI가 약물 표적 발굴에 활용되는 방식:**\n",
            "\n",
            "* **데이터 통합 및 분석:** AI는 유전체 데이터, 단백질 구조 데이터, 생화학 데이터, 임상 데이터 등 방대한 양의 데이터를 통합하고 분석합니다. 이러한 데이터는 인간이 직접 분석하기에는 너무 복잡하고 시간이 오래 걸리지만, AI는 알고리즘을 통해 숨겨진 패턴과 상관관계를 찾아냅니다.\n",
            "* **표적 발굴 예측 모델 개발:** AI는 다음과 같은 방법으로 약물 표적을 예측합니다.\n",
            "    * **머신러닝:** 과거 성공적인 약물 개발 데이터에서 패턴을 학습하여 새로운 약물 표적을 예측합니다. 특히, 깊은 학습(Deep Learning)은 복잡한 데이터에서 특징을 추출하는 데 뛰어난 성능을 보입니다.\n",
            "    * **딥러닝:** 신경망을 사용하여 데이터의 복잡한 패턴을 학습하고, 새로운 약물 표적을 예측합니다.\n",
            "    * **그래프 신경망 (Graph Neural Networks):** 단백질 상호작용 네트워크와 같은 복잡한 그래프 형태의 데이터를 분석하여 약물 표적을 발굴합니다.\n",
            "    * **자연어 처리 (NLP):** 의학 논문, 특허 문서 등 비정형 텍스트 데이터를 분석하여 약물 표적 관련 정보를 추출합니다.\n",
            "* **단백질 구조 분석:** AI는 단백질의 3차원 구조를 분석하여 약물이 결합할 수 있는 최적의 부위를 식별합니다.\n",
            "* **가상 스크리닝 (Virtual Screening):** AI는 수많은 화합물 라이브러리를 가상으로 테스트하여 약물 표적과의 결합 가능성을 예측합니다.\n",
            "\n",
            "**2. AI를 활용한 약물 표적 발굴의 구체적인 예시:**\n",
            "\n",
            "* **알츠하이머병 치료제 표적 발굴:** AI는 알츠하이머병과 관련된 특정 단백질을 표적으로 하는 새로운 약물 개발에 활용되고 있습니다.\n",
            "* **암 치료제 표적 발굴:** AI는 암세포의 특정 표적을 발굴하여 표적 치료제 개발에 기여하고 있습니다. 예를 들어, 특정 암세포에서만 발현되는 단백질을 표적으로 하는 약물 개발이 진행되고 있습니다.\n",
            "* **전염병 치료제 표적 발굴:** 코로나19 팬데믹 상황에서 AI는 바이러스의 주요 표적을 발굴하고, 백신 및 치료제 개발에 기여했습니다.\n",
            "\n",
            "**3. AI 활용의 장점:**\n",
            "\n",
            "* **시간 단축:** AI는 기존 방식보다 훨씬 빠르게 약물 표적을 발굴할 수 있습니다.\n",
            "* **비용 절감:** AI는 데이터 분석 및 예측 과정을 자동화하여 연구 개발 비용을 절감할 수 있습니다.\n",
            "* **정확성 향상:** AI는 인간의 주관적인 판단을 배제하고 객관적인 데이터를 기반으로 예측을 수행하여 정확성을 높입니다.\n",
            "* **새로운 표적 발굴:** AI는 인간이 미처 발견하지 못했던 새로운 약물 표적을 발굴할 가능성을 높입니다.\n",
            "\n",
            "**4. 추가 정보:**\n",
            "\n",
            "* **AI 기반 약물 개발 플랫폼:** Atomwise, BenevolentAI, Exscientia 등 AI 기반 약물 개발 플랫폼들이 활발하게 사업을 진행하고 있습니다.\n",
            "* **연구 동향:** PubMed, Google Scholar 등에서 \"AI drug discovery\", \"AI target identification\" 등의 키워드로 검색하면 최신 연구 동향을 확인할 수 있습니다.\n",
            "\n",
            "궁금한 점이 있다면 언제든지 다시 질문해주세요.\n"
          ]
        }
      ]
    },
    {
      "cell_type": "markdown",
      "source": [
        "# PubMed 논문 분석"
      ],
      "metadata": {
        "id": "Ly7szgNWlQM3"
      }
    },
    {
      "cell_type": "code",
      "source": [
        "!pip install biopython"
      ],
      "metadata": {
        "colab": {
          "base_uri": "https://localhost:8080/"
        },
        "id": "3Cd7yZI_lQWj",
        "outputId": "6c92cc42-2f27-40d4-be62-b22d190689c6"
      },
      "execution_count": null,
      "outputs": [
        {
          "output_type": "stream",
          "name": "stdout",
          "text": [
            "Collecting biopython\n",
            "  Downloading biopython-1.85-cp312-cp312-manylinux_2_17_x86_64.manylinux2014_x86_64.whl.metadata (13 kB)\n",
            "Requirement already satisfied: numpy in /usr/local/lib/python3.12/dist-packages (from biopython) (2.0.2)\n",
            "Downloading biopython-1.85-cp312-cp312-manylinux_2_17_x86_64.manylinux2014_x86_64.whl (3.3 MB)\n",
            "\u001b[2K   \u001b[90m━━━━━━━━━━━━━━━━━━━━━━━━━━━━━━━━━━━━━━━━\u001b[0m \u001b[32m3.3/3.3 MB\u001b[0m \u001b[31m22.7 MB/s\u001b[0m eta \u001b[36m0:00:00\u001b[0m\n",
            "\u001b[?25hInstalling collected packages: biopython\n",
            "Successfully installed biopython-1.85\n"
          ]
        }
      ]
    },
    {
      "cell_type": "code",
      "source": [
        "# =========================\n",
        "# 0) 준비: 라이브러리\n",
        "# =========================\n",
        "from Bio import Entrez, Medline\n",
        "import os, json, time, re, requests\n",
        "from typing import List, Dict\n",
        "import pandas as pd\n",
        "import tqdm\n",
        "\n",
        "# =========================\n",
        "# 1) 사용자 설정(여기만 바꾸면 됨)\n",
        "# =========================\n",
        "DISEASE = \"non-small cell lung cancer\"   # 검색할 질병명\n",
        "RETMAX  = 10                              # 상위 몇 편 가져올지\n",
        "NCBI_EMAIL   = \"you@example.com\"          # Entrez 필수(아무 이메일 가능)\n",
        "NCBI_API_KEY = os.getenv(\"NCBI_API_KEY\", \"\")  # 선택(있으면 넣기)\n",
        "NCBI_DELAY_SEC = 0.4                       # 서버 과부하 방지(0.3~0.5 추천)\n",
        "\n",
        "# 로컬 Ollama (설치돼 있어야 함: https://ollama.com)\n",
        "OLLAMA_URL   = \"http://localhost:11434/api/generate\"\n",
        "OLLAMA_MODEL = \"gemma3:4b\"                 # 원하는 로컬 모델 이름\n",
        "\n",
        "# =========================\n",
        "# 2) PubMed 검색/가져오기 (간단 버전)\n",
        "# =========================\n",
        "def search_pubmed(disease: str, retmax: int) -> List[str]:\n",
        "    \"\"\"질병명으로 PubMed 검색 → PMID 리스트\"\"\"\n",
        "    Entrez.email = NCBI_EMAIL\n",
        "    if NCBI_API_KEY:\n",
        "        Entrez.api_key = NCBI_API_KEY\n",
        "\n",
        "    query = f'(\"{disease}\"[Title/Abstract]) AND hasabstract[text]'\n",
        "    with Entrez.esearch(db=\"pubmed\", term=query, retmax=retmax, sort=\"relevance\") as h:\n",
        "        rec = Entrez.read(h)\n",
        "    pmids = rec.get(\"IdList\", [])\n",
        "    return pmids\n",
        "\n",
        "def fetch_medline(pmids: List[str]) -> List[Dict]:\n",
        "    \"\"\"PMID 리스트로 MEDLINE 레코드 가져오기\"\"\"\n",
        "    if not pmids:\n",
        "        return []\n",
        "    with Entrez.efetch(db=\"pubmed\", id=\",\".join(pmids), rettype=\"medline\", retmode=\"text\") as h:\n",
        "        records = list(Medline.parse(h))\n",
        "    time.sleep(NCBI_DELAY_SEC)  # 너무 빨리 호출하지 않기\n",
        "    return records\n",
        "\n",
        "# =========================\n",
        "# 3) LLM 추출 (JSON만 받기, 옵션 최소화)\n",
        "# =========================\n",
        "SYSTEM_PROMPT = \"\"\"당신은 신약개발/약리학 전문가입니다.\n",
        "아래 스키마의 JSON만 출력하세요. JSON 바깥 텍스트 금지.\n",
        "\n",
        "JSON Schema (키만 준수; 값은 한국어):\n",
        "{\n",
        "  \"논문 PMID\": \"예: 12345678\",\n",
        "  \"논문 제목\": \"제목\",\n",
        "  \"질병 이름\": \"입력 질병명과 일치/근접\",\n",
        "  \"타깃 이름\": \"EGFR/PD-1 등(없으면 unknown)\",\n",
        "  \"작용 기전\": \"한 문장 요약(없으면 unknown)\",\n",
        "  \"임상 정보 유무\": \"예/아니오/need_verification\"\n",
        "}\n",
        "\"\"\"\n",
        "\n",
        "def build_prompt(disease: str, pmid: str, title: str, abstract: str) -> str:\n",
        "    return (\n",
        "        \"다음은 PubMed 논문의 메타데이터와 초록입니다.\\n\"\n",
        "        f\"- 질병: {disease}\\n\"\n",
        "        f\"- PMID: {pmid}\\n\"\n",
        "        f\"- 제목: {title}\\n\"\n",
        "        f\"- 초록: {abstract}\\n\\n\"\n",
        "        \"요구사항:\\n\"\n",
        "        \"1) 위 스키마의 키를 가진 순수 JSON만 출력.\\n\"\n",
        "        \"2) 모르면 'unknown' 또는 'need_verification' 사용.\\n\"\n",
        "        \"3) 임상 정보가 분명하면 '예', 불명확하면 '아니오' 또는 'need_verification'.\"\n",
        "    )\n",
        "\n",
        "def _safe_json_loads(text: str) -> Dict:\n",
        "    \"\"\"응답에서 첫 번째 JSON 객체만 안전하게 추출\"\"\"\n",
        "    try:\n",
        "        return json.loads(text)\n",
        "    except json.JSONDecodeError:\n",
        "        m = re.search(r\"\\{.*\\}\", text, flags=re.DOTALL)\n",
        "        if not m:\n",
        "            raise\n",
        "        return json.loads(m.group(0))\n",
        "\n",
        "def extract_with_ollama(record: Dict, disease: str,\n",
        "                        model: str = OLLAMA_MODEL,\n",
        "                        url: str = OLLAMA_URL,\n",
        "                        timeout: int = 120) -> Dict:\n",
        "    pmid = str(record.get(\"PMID\", \"\"))\n",
        "    title = record.get(\"TI\", \"\")\n",
        "    abstract = record.get(\"AB\", \"\")\n",
        "\n",
        "    payload = {\n",
        "        \"model\": model,\n",
        "        \"system\": SYSTEM_PROMPT,\n",
        "        \"prompt\": build_prompt(disease, pmid, title, abstract),\n",
        "        \"stream\": False,\n",
        "        \"format\": \"json\"  # JSON만 반환하도록 간단 지정\n",
        "    }\n",
        "    r = requests.post(url, json=payload, timeout=timeout)\n",
        "    r.raise_for_status()\n",
        "    raw = (r.json().get(\"response\") or \"\").strip()\n",
        "    if not raw:\n",
        "        raise RuntimeError(\"Ollama에서 빈 응답을 받았습니다.\")\n",
        "    obj = _safe_json_loads(raw)\n",
        "\n",
        "    # 누락 시 기본값 채우기\n",
        "    obj[\"논문 PMID\"] = pmid\n",
        "    obj[\"논문 제목\"] = title\n",
        "    obj[\"질병 이름\"] = disease\n",
        "    obj.setdefault(\"타깃 이름\", \"unknown\")\n",
        "    obj.setdefault(\"작용 기전\", \"unknown\")\n",
        "    obj.setdefault(\"임상 정보 유무\", \"need_verification\")\n",
        "    return obj\n",
        "\n",
        "# =========================\n",
        "# 4) 출력/저장\n",
        "# =========================\n",
        "def save_csv(rows: List[Dict], filename: str = \"pubmed_summary.csv\"):\n",
        "    df = pd.DataFrame([{\n",
        "        \"PMID\": r.get(\"논문 PMID\", \"\"),\n",
        "        \"제목\": r.get(\"논문 제목\", \"\"),\n",
        "        \"질병\": r.get(\"질병 이름\", \"\"),\n",
        "        \"타깃\": r.get(\"타깃 이름\", \"\"),\n",
        "        \"작용 기전\": r.get(\"작용 기전\", \"\"),\n",
        "        \"임상 정보\": r.get(\"임상 정보 유무\", \"\")\n",
        "    } for r in rows])\n",
        "    df.to_csv(filename, index=False, encoding=\"utf-8-sig\")\n",
        "    print(f\"[CSV 저장 완료] {filename}\")\n",
        "\n",
        "def pretty_print(rows: List[Dict]):\n",
        "    print(\"\\n=== 결과(JSON) ===\")\n",
        "    for i, r in enumerate(rows, 1):\n",
        "        print(f\"\\n# {i}\")\n",
        "        print(json.dumps(r, ensure_ascii=False, indent=2))\n",
        "\n",
        "# =========================\n",
        "# 5) 실행\n",
        "# =========================\n",
        "if __name__ == \"__main__\":\n",
        "    print(f\"[1/3] PubMed 검색: {DISEASE!r} (최대 {RETMAX}편)\")\n",
        "    pmids = search_pubmed(DISEASE, RETMAX)\n",
        "    if not pmids:\n",
        "        raise SystemExit(\"검색 결과가 없습니다. DISEASE 값을 바꿔보세요.\")\n",
        "    print(\"→ PMID:\", \", \".join(pmids))\n",
        "\n",
        "    print(\"[2/3] MEDLINE 초록 가져오는 중...\")\n",
        "    records = fetch_medline(pmids)\n",
        "    if not records:\n",
        "        raise SystemExit(\"초록을 가져오지 못했습니다.\")\n",
        "\n",
        "    print(\"[3/3] Ollama로 JSON 추출 중...\")\n",
        "    results = []\n",
        "    for rec in tqdm.tqdm(records):\n",
        "        try:\n",
        "            results.append(extract_with_ollama(rec, DISEASE))\n",
        "        except Exception as e:\n",
        "            print(f\" - PMID {rec.get('PMID','?')} 처리 실패: {e}\")\n",
        "\n",
        "    if not results:\n",
        "        raise SystemExit(\"추출 결과가 없습니다.\")\n",
        "\n",
        "    pretty_print(results)\n",
        "    save_csv(results, \"pubmed_summary.csv\")\n",
        "    print(\"\\n[완료]\")"
      ],
      "metadata": {
        "id": "syOPTwVTyIVH",
        "colab": {
          "base_uri": "https://localhost:8080/"
        },
        "outputId": "0dc952ca-4b58-4202-b1e2-7e80471ed1ef"
      },
      "execution_count": null,
      "outputs": [
        {
          "output_type": "stream",
          "name": "stdout",
          "text": [
            "[1/3] PubMed 검색: 'non-small cell lung cancer' (최대 10편)\n",
            "→ PMID: 35323350, 37015337, 36291069, 34150616, 39616383, 33096867, 35090346, 38894899, 36290835, 40930154\n",
            "[2/3] MEDLINE 초록 가져오는 중...\n",
            "[3/3] Ollama로 JSON 추출 중...\n"
          ]
        },
        {
          "output_type": "stream",
          "name": "stderr",
          "text": [
            "100%|██████████| 10/10 [00:35<00:00,  3.59s/it]"
          ]
        },
        {
          "output_type": "stream",
          "name": "stdout",
          "text": [
            "\n",
            "=== 결과(JSON) ===\n",
            "\n",
            "# 1\n",
            "{\n",
            "  \"논문 PMID\": \"35323350\",\n",
            "  \"논문 제목\": \"Non-Small-Cell Lung Cancer in 2022: A Review for General Practitioners in Oncology.\",\n",
            "  \"질병 이름\": \"non-small cell lung cancer\",\n",
            "  \"타깃 이름\": \"unknown\",\n",
            "  \"작용 기전\": \"non-small cell lung cancer에 대한 최신 치료 동향을 검토하며, 특히 스크리닝, 조기 및 국소 진행 병기 환자 관리, 전이성 환자 관리, 면역 치료 통합 및 부작용에 중점을 둠.\",\n",
            "  \"임상 정보 유무\": \"need_verification\"\n",
            "}\n",
            "\n",
            "# 2\n",
            "{\n",
            "  \"논문 PMID\": \"37015337\",\n",
            "  \"논문 제목\": \"NCCN Guidelines(R) Insights: Non-Small Cell Lung Cancer, Version 2.2023.\",\n",
            "  \"질병 이름\": \"non-small cell lung cancer\",\n",
            "  \"타깃 이름\": \"unknown\",\n",
            "  \"작용 기전\": \"neoadjuvant and adjuvant (also known as perioperative) systemic therapy options for eligible patients with resectable NSCLC.\",\n",
            "  \"임상 정보 유무\": \"예\"\n",
            "}\n",
            "\n",
            "# 3\n",
            "{\n",
            "  \"논문 PMID\": \"36291069\",\n",
            "  \"논문 제목\": \"Biomarker-Targeted Therapies in Non-Small Cell Lung Cancer: Current Status and Perspectives.\",\n",
            "  \"질병 이름\": \"non-small cell lung cancer\",\n",
            "  \"타깃 이름\": \"unknown\",\n",
            "  \"작용 기전\": \"Molecular targeted therapies and immunotherapies have significantly improved the prognosis of NSCLC. However, the vast majority of advanced NSCLC develop resistance to current therapies and eventually progress. We highlight the future role of metabolic therapies and combination therapies in NSCLC.\",\n",
            "  \"임상 정보 유무\": \"need_verification\"\n",
            "}\n",
            "\n",
            "# 4\n",
            "{\n",
            "  \"논문 PMID\": \"34150616\",\n",
            "  \"논문 제목\": \"Lactate Modulates Cellular Metabolism Through Histone Lactylation-Mediated Gene Expression in Non-Small Cell Lung Cancer.\",\n",
            "  \"질병 이름\": \"non-small cell lung cancer\",\n",
            "  \"타깃 이름\": \"HK-1, PKM, SDHA, IDH3G\",\n",
            "  \"작용 기전\": \"Lactate attenuates glucose uptake and glycolysis while maintaining mitochondrial homeostasis by down-regulating glycolytic enzymes and up-regulating TCA cycle enzymes, facilitated by histone lactylation-mediated gene expression.\",\n",
            "  \"임상 정보 유무\": \"예\"\n",
            "}\n",
            "\n",
            "# 5\n",
            "{\n",
            "  \"논문 PMID\": \"39616383\",\n",
            "  \"논문 제목\": \"Advances in non-small cell lung cancer mechanomedicine: deciphering the signaling networks that govern tumor-TME interactions.\",\n",
            "  \"질병 이름\": \"non-small cell lung cancer\",\n",
            "  \"타깃 이름\": \"unknown\",\n",
            "  \"작용 기전\": \"Cells from the tumor microenvironment (TME) interact with tumor cells in non-small cell lung cancer (NSCLC) to form a reciprocal crosstalk which influences tumor growth, proliferation, metastasis and multidrug response. This crosstalk is modulated by TME mechanical inputs, which elicit the processes of mechanosensing and mechanotransduction.\",\n",
            "  \"임상 정보 유무\": \"need_verification\"\n",
            "}\n",
            "\n",
            "# 6\n",
            "{\n",
            "  \"논문 PMID\": \"33096867\",\n",
            "  \"논문 제목\": \"Biomarkers for Non-Small Cell Lung Cancer: From the Bench to the Bedside.\",\n",
            "  \"질병 이름\": \"non-small cell lung cancer\",\n",
            "  \"타깃 이름\": \"unknown\",\n",
            "  \"작용 기전\": \"unknown\",\n",
            "  \"임상 정보 유무\": \"need_verification\"\n",
            "}\n",
            "\n",
            "# 7\n",
            "{\n",
            "  \"논문 PMID\": \"35090346\",\n",
            "  \"논문 제목\": \"Semisynthesis and Non-Small-Cell Lung Cancer Cytotoxicity Evaluation of Germacrane-Type Sesquiterpene Lactones from Elephantopus scaber.\",\n",
            "  \"질병 이름\": \"non-small cell lung cancer\",\n",
            "  \"타깃 이름\": \"EGFR\",\n",
            "  \"작용 기전\": \"Compounds 1u and 3d cause G2/M phase arrest and induce apoptosis through the activation of mitochondrial pathways in A549 cells.\",\n",
            "  \"임상 정보 유무\": \"need_verification\"\n",
            "}\n",
            "\n",
            "# 8\n",
            "{\n",
            "  \"논문 PMID\": \"38894899\",\n",
            "  \"논문 제목\": \"Novel KRAS Inhibitors for Treating Non-Small-Cell Lung Cancer.\",\n",
            "  \"질병 이름\": \"non-small cell lung cancer\",\n",
            "  \"타깃 이름\": \"KRAS\",\n",
            "  \"작용 기전\": \"KRAS 억제제 제공\",\n",
            "  \"임상 정보 유무\": \"need_verification\"\n",
            "}\n",
            "\n",
            "# 9\n",
            "{\n",
            "  \"논문 PMID\": \"36290835\",\n",
            "  \"논문 제목\": \"Treatments for Non-Small-Cell Lung Cancer: The Multiple Options for Precision Medicine.\",\n",
            "  \"질병 이름\": \"non-small cell lung cancer\",\n",
            "  \"타깃 이름\": \"unknown\",\n",
            "  \"작용 기전\": \"recent advances in molecular diagnostics have transformed the management of advanced non-small-cell lung cancer (NSCLC), allowing for increasingly personalized approaches\",\n",
            "  \"임상 정보 유무\": \"need_verification\"\n",
            "}\n",
            "\n",
            "# 10\n",
            "{\n",
            "  \"논문 PMID\": \"40930154\",\n",
            "  \"논문 제목\": \"NCCN Guidelines(R) Insights: Non-Small Cell Lung Cancer, Version 7.2025.\",\n",
            "  \"질병 이름\": \"non-small cell lung cancer\",\n",
            "  \"타깃 이름\": \"unknown\",\n",
            "  \"작용 기전\": \"NCCN 지침은 비전환성 NSCLC 환자를 위한 체계적 치료 옵션에 대한 권장 사항을 제공하며, 상응하는 분자 테스트 고려 사항에 초점을 맞춥니다.\",\n",
            "  \"임상 정보 유무\": \"아니오\"\n",
            "}\n",
            "[CSV 저장 완료] pubmed_summary.csv\n",
            "\n",
            "[완료]\n"
          ]
        },
        {
          "output_type": "stream",
          "name": "stderr",
          "text": [
            "\n"
          ]
        }
      ]
    },
    {
      "cell_type": "markdown",
      "source": [],
      "metadata": {
        "id": "BB9UanzFyIaZ"
      }
    },
    {
      "cell_type": "code",
      "source": [],
      "metadata": {
        "id": "HDNS0VT3yIfL"
      },
      "execution_count": null,
      "outputs": []
    },
    {
      "cell_type": "markdown",
      "source": [],
      "metadata": {
        "id": "4GfrSCk1yIkJ"
      }
    }
  ]
}